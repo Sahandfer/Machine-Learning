{
 "cells": [
  {
   "cell_type": "markdown",
   "metadata": {},
   "source": [
    "# Machine Learning Notebook\n",
    "> Machine Learning is the future and hence, I shall master it.\n",
    "\n",
    "## Types of Machine Learning:\n",
    "\n",
    "### 1) Supervised Learning\n",
    "\n",
    "### 2) Unsupervised Learning\n",
    "\n",
    "### 3) Semisupervised Learning\n",
    "\n",
    "### 4) Reinforcement Learning"
   ]
  },
  {
   "cell_type": "markdown",
   "metadata": {},
   "source": []
  }
 ],
 "metadata": {
  "kernelspec": {
   "display_name": "Python 3",
   "language": "python",
   "name": "python3"
  },
  "language_info": {
   "codemirror_mode": {
    "name": "ipython",
    "version": 3
   },
   "file_extension": ".py",
   "mimetype": "text/x-python",
   "name": "python",
   "nbconvert_exporter": "python",
   "pygments_lexer": "ipython3",
   "version": "3.8.5"
  }
 },
 "nbformat": 4,
 "nbformat_minor": 4
}